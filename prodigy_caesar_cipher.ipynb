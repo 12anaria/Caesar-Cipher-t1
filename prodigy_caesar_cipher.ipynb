{
  "nbformat": 4,
  "nbformat_minor": 0,
  "metadata": {
    "colab": {
      "provenance": []
    },
    "kernelspec": {
      "name": "python3",
      "display_name": "Python 3"
    },
    "language_info": {
      "name": "python"
    }
  },
  "cells": [
    {
      "cell_type": "code",
      "execution_count": null,
      "metadata": {
        "colab": {
          "base_uri": "https://localhost:8080/"
        },
        "id": "K0HnnGqZXtPi",
        "outputId": "e02270d6-8d72-42ab-adff-b9c4c9654173"
      },
      "outputs": [
        {
          "output_type": "stream",
          "name": "stdout",
          "text": [
            "Do you want to (e)ncrypt or (d)ecrypt? d\n",
            "Enter the message to decrypt: Jgnnq\n",
            "Enter the shift value: 2\n",
            "Decrypted message: Hello\n"
          ]
        }
      ],
      "source": [
        "def caesar_cipher_encrypt(text, shift):\n",
        "    encrypted_text = ''\n",
        "    for char in text:\n",
        "        if char.isalpha():\n",
        "            shifted = ord(char) + shift\n",
        "            if char.islower():\n",
        "                if shifted > ord('z'):\n",
        "                    shifted -= 26\n",
        "                elif shifted < ord('a'):\n",
        "                    shifted += 26\n",
        "            elif char.isupper():\n",
        "                if shifted > ord('Z'):\n",
        "                    shifted -= 26\n",
        "                elif shifted < ord('A'):\n",
        "                    shifted += 26\n",
        "            encrypted_text += chr(shifted)\n",
        "        else:\n",
        "            encrypted_text += char\n",
        "    return encrypted_text\n",
        "\n",
        "def caesar_cipher_decrypt(text, shift):\n",
        "    return caesar_cipher_encrypt(text, -shift)\n",
        "\n",
        "def main():\n",
        "    choice = input(\"Do you want to (e)ncrypt or (d)ecrypt? \").lower()\n",
        "    if choice == 'e':\n",
        "        message = input(\"Enter the message to encrypt: \")\n",
        "        shift = int(input(\"Enter the shift value: \"))\n",
        "        encrypted_message = caesar_cipher_encrypt(message, shift)\n",
        "        print(\"Encrypted message:\", encrypted_message)\n",
        "    elif choice == 'd':\n",
        "        message = input(\"Enter the message to decrypt: \")\n",
        "        shift = int(input(\"Enter the shift value: \"))\n",
        "        decrypted_message = caesar_cipher_decrypt(message, shift)\n",
        "        print(\"Decrypted message:\", decrypted_message)\n",
        "    else:\n",
        "        print(\"Invalid choice\")\n",
        "\n",
        "if __name__ == \"__main__\":\n",
        "    main()\n"
      ]
    }
  ]
}